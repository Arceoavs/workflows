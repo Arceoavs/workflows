{
 "cells": [
  {
   "cell_type": "markdown",
   "metadata": {},
   "source": [
    "# Wikipedia JSON Generator\n",
    "-------\n",
    "\n",
    "##  This ipython notebook provides a quick and dirty implementation converting Wikipedia raw texts into JSON format.\n",
    "\n",
    "1. In the code below, the file wikipedia.txt is a small sample of the Wikipedia dump file for the purposes of illustrating our code. The filw is obtained as follows:\n",
    "   Apply [WikiExtractor](http://medialab.di.unipi.it/Project/SemaWiki/Tools/WikiExtractor.py) on the wikipedia dump file, such as [this](https://dumps.wikimedia.org/enwiki/20161101/enwiki-20161101-pages-articles.xml.bz2). Obtain a small sample of the resulting file, which is wikipedia.txt. \n",
    "\n",
    "2. Retrieve (article title, article content text) pairs and generate a JSON file"
   ]
  },
  {
   "cell_type": "code",
   "execution_count": 1,
   "metadata": {
    "collapsed": true
   },
   "outputs": [],
   "source": [
    "# You can download a sample wikipedia.txt file from here:\n",
    "# https://anaconda.org/BigGorilla/datasets/1/download/wikipedia.txt\n",
    "wikipedia_file_path = \"wikipedia.txt\"\n",
    "output_json_file_path = \"wikipedia.json\""
   ]
  },
  {
   "cell_type": "code",
   "execution_count": 2,
   "metadata": {
    "collapsed": false
   },
   "outputs": [],
   "source": [
    "def load_wikifile(file_path):\n",
    "    result = []\n",
    "    with open(file_path, \"r\") as read_f:\n",
    "        wikititle = \"\"\n",
    "        wikitext = \"\"\n",
    "        start_flg = False\n",
    "        for line in read_f:\n",
    "            line = line.rstrip()\n",
    "            if line == \"\":\n",
    "                continue\n",
    "            if len(line) >= 8 and line[:8] == \"<doc id=\":\n",
    "                start_flg = True\n",
    "                continue\n",
    "            if start_flg is True:\n",
    "                wikititle = line\n",
    "                start_flg = False\n",
    "                continue\n",
    "            if len(line) >= 6 and line[:6] == \"</doc>\":\n",
    "                # retrieve only the title and content pairs\n",
    "                result.append({\"title\": wikititle,\n",
    "                              \"text\": wikitext.rstrip()})\n",
    "                wikitext = \"\"\n",
    "                continue\n",
    "            wikitext += line + '\\n'\n",
    "    return result"
   ]
  },
  {
   "cell_type": "code",
   "execution_count": 3,
   "metadata": {
    "collapsed": false
   },
   "outputs": [],
   "source": [
    "import json\n",
    "\n",
    "wiki_data = load_wikifile(wikipedia_file_path)\n",
    "with open(output_json_file_path, 'w') as outfile:\n",
    "    # write out wiki_data in json format\n",
    "    json.dump(wiki_data, outfile, indent=4)"
   ]
  }
 ],
 "metadata": {
  "kernelspec": {
   "display_name": "Python 2",
   "language": "python",
   "name": "python2"
  },
  "language_info": {
   "codemirror_mode": {
    "name": "ipython",
    "version": 2
   },
   "file_extension": ".py",
   "mimetype": "text/x-python",
   "name": "python",
   "nbconvert_exporter": "python",
   "pygments_lexer": "ipython2",
   "version": "2.7.12"
  }
 },
 "nbformat": 4,
 "nbformat_minor": 0
}
